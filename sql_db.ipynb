{
 "cells": [
  {
   "cell_type": "code",
   "execution_count": null,
   "metadata": {},
   "outputs": [],
   "source": [
    "%load_ext sql\n",
    "%sql sqlite:///aidatabase_experiment.db"
   ]
  },
  {
   "cell_type": "code",
   "execution_count": null,
   "metadata": {},
   "outputs": [],
   "source": [
    "%%sql\n",
    "\n",
    "CREATE TABLE IF NOT EXISTS Data (\n",
    "    ID INTEGER PRIMARY KEY,\n",
    "    ExperimentID TEXT,\n",
    "    Time REAL,\n",
    "    Temperature REAL,\n",
    "    Humidity REAL,\n",
    "    Gas REAL,\n",
    "    CO2 REAL\n",
    ");\n",
    "\n",
    "CREATE TABLE IF NOT EXISTS Metadata (\n",
    "    ID INTEGER PRIMARY KEY,\n",
    "    ExperimentID TEXT,\n",
    "    NiclaID TEXT,\n",
    "    MKRID TEXT,\n",
    "    Location TEXT,\n",
    "    Date_Start TEXT,\n",
    "    Duration INTEGER,\n",
    "    Weather_Description TEXT\n",
    ");"
   ]
  },
  {
   "cell_type": "code",
   "execution_count": null,
   "metadata": {},
   "outputs": [],
   "source": [
    "import sqlite3\n",
    "import csv\n",
    "import json\n",
    "\n",
    "url_csv = 'url_to_csv'\n",
    "url = 'url'\n",
    "filename1 = 'date-file'\n",
    "filename2 = 'date-file'\n",
    "filename3 = 'metadata.json'\n",
    "filename4 = 'metadata2.json'\n",
    "\n",
    "# Function to insert data from a CSV file into the database\n",
    "def insert_data_from_csv(csv_filename, cursor, filename):\n",
    "    '''This function adds all data from CSV file into SQL database'''\n",
    "    with open(csv_filename, 'r') as f:\n",
    "        csv_reader = csv.reader(f)\n",
    "        next(csv_reader)  # Skip the header row if present\n",
    "        # Loop through rows and insert into the database\n",
    "        for row in csv_reader:\n",
    "            cursor.execute('INSERT INTO Data (ExperimentID, Time, Temperature, Humidity, Gas, CO2) VALUES (?, ?, ?, ?, ?, ?)', (filename, row[0], row[1], row[2], row[3], row[4]))\n",
    "\n",
    "# Function to insert data from JSON file into the database\n",
    "def insert_data_from_json(json_filename, cursor):\n",
    "    with open(json_filename, 'r') as f:\n",
    "        data = json.load(f)  # Load the JSON data\n",
    "        # Loop through each entry in the JSON file and insert into the database\n",
    "        for key, entry in data.items():\n",
    "            # Assuming the JSON structure is a list of dictionaries with the same fields as the database columns\n",
    "            cursor.execute('INSERT INTO Metadata (ExperimentID, NiclaID, MKRID, Location, Date_Start, Duration, Weather_Description) VALUES (?, ?, ?, ?, ?, ?, ?)',\n",
    "                           (key, entry['NiclaID'], entry['MKRID'], entry['Location'], entry['Date_Start'], float(entry['Duration']), entry['Weather_Description']))\n",
    "\n",
    "# Connect to SQLite database\n",
    "conn = sqlite3.connect('aidatabase_experiment.db')\n",
    "cursor = conn.cursor()\n",
    "\n",
    "# Insert data from the first file\n",
    "insert_data_from_csv(f\"{url_csv}{filename1}.csv\", cursor, filename1)\n",
    "\n",
    "# Insert data from the second file\n",
    "insert_data_from_csv(f\"{url_csv}{filename2}.csv\", cursor, filename2)\n",
    "\n",
    "# Insert data from json file\n",
    "insert_data_from_json(f\"{url}{filename3}\", cursor)\n",
    "\n",
    "# Insert data from second json file\n",
    "insert_data_from_json(f\"{url}{filename4}\", cursor)\n",
    "\n",
    "# Commit the changes to the database\n",
    "conn.commit()\n",
    "\n",
    "# Close the connection\n",
    "conn.close()"
   ]
  },
  {
   "cell_type": "code",
   "execution_count": null,
   "metadata": {},
   "outputs": [],
   "source": [
    "%%sql\n",
    "SELECT * FROM Metadata;"
   ]
  },
  {
   "cell_type": "code",
   "execution_count": null,
   "metadata": {},
   "outputs": [],
   "source": [
    "%%sql\n",
    "SELECT * FROM Data;"
   ]
  }
 ],
 "metadata": {
  "kernelspec": {
   "display_name": "base",
   "language": "python",
   "name": "python3"
  },
  "language_info": {
   "name": "python",
   "version": "3.12.4"
  }
 },
 "nbformat": 4,
 "nbformat_minor": 2
}
